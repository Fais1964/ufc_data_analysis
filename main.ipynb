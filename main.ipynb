{
 "cells": [
  {
   "cell_type": "markdown",
   "metadata": {},
   "source": [
    "# Main Analysis"
   ]
  },
  {
   "attachments": {},
   "cell_type": "markdown",
   "metadata": {},
   "source": [
    "# Importing Libraries"
   ]
  },
  {
   "cell_type": "code",
   "execution_count": 90,
   "metadata": {},
   "outputs": [],
   "source": [
    "import pandas as pd\n",
    "import numpy as np\n",
    "import matplotlib.pyplot as plt\n",
    "import altair as alt\n",
    "import seaborn as sns\n",
    "\n",
    "from sklearn.preprocessing import LabelEncoder\n",
    "from sklearn.model_selection import train_test_split\n",
    "from sklearn.ensemble import RandomForestClassifier\n",
    "from sklearn.model_selection import cross_val_score\n",
    "from sklearn.impute import SimpleImputer\n",
    "from xgboost import XGBClassifier\n",
    "from sklearn.metrics import classification_report, confusion_matrix, accuracy_score\n"
   ]
  },
  {
   "cell_type": "code",
   "execution_count": 110,
   "metadata": {},
   "outputs": [],
   "source": [
    "# Read in the data\n",
    "df = pd.read_csv('data/data.csv')\n",
    "\n",
    "# Make a copy of the original dataframe\n",
    "df_copy = df.copy()\n"
   ]
  },
  {
   "cell_type": "markdown",
   "metadata": {},
   "source": [
    "# Preprocess the data\n"
   ]
  },
  {
   "cell_type": "code",
   "execution_count": 111,
   "metadata": {},
   "outputs": [
    {
     "name": "stdout",
     "output_type": "stream",
     "text": [
      "Number of features with NaN values: 109\n",
      "Number of features with NaN values: 0\n"
     ]
    }
   ],
   "source": [
    "import pandas as pd\n",
    "import numpy as np\n",
    "from sklearn.impute import SimpleImputer\n",
    "import altair as alt\n",
    "\n",
    "def add_year_of_game(data):\n",
    "    data['YearOfgame'] = data['date'].apply(lambda x: x.split('-')[0])\n",
    "    return data\n",
    "\n",
    "def count_na_values(data):\n",
    "    na = [(index, data[col].isna().sum()) for index, col in enumerate(data)]\n",
    "    return len([x[1] for x in na if x[1] > 0])\n",
    "\n",
    "def impute_missing_values(data, features, imp_features, imp_stance):\n",
    "    for feature in features:\n",
    "        data[feature] = imp_features.fit_transform(data[feature].values.reshape(-1, 1))\n",
    "    data['R_Stance'] = imp_stance.fit_transform(data['R_Stance'].values.reshape(-1, 1))\n",
    "    data['B_Stance'] = imp_stance.fit_transform(data['B_Stance'].values.reshape(-1, 1))\n",
    "    return data\n",
    "\n",
    "def impute_mean_values(data, na, imp_stance):\n",
    "    for x in na:\n",
    "        if x[1] > 0 and data.iloc[:, x[0]].dtype != 'object':\n",
    "            data.iloc[:, x[0]] = imp_stance.fit_transform(data.iloc[:, x[0]].values.reshape(-1, 1))\n",
    "    return data\n",
    "\n",
    "# Read in the data\n",
    "df = pd.read_csv('data/data.csv')\n",
    "\n",
    "# Make a copy of the original dataframe\n",
    "df_copy = df.copy()\n",
    "\n",
    "# Calculate year-wise games\n",
    "play_info = df\n",
    "play_info = add_year_of_game(play_info)\n",
    "play_counts = pd.DataFrame(play_info['YearOfgame'].value_counts().sort_index())\n",
    "play_counts['NoOfGames'] = play_counts['YearOfgame']\n",
    "play_counts['YearOfgame'] = play_counts.index\n",
    "\n",
    "# Calculate games in each weight class\n",
    "weightClassCount = pd.DataFrame(df['weight_class'].value_counts())\n",
    "weightClassCount['WeightClass'] = weightClassCount.index\n",
    "\n",
    "# Deal with null values\n",
    "print('Number of features with NaN values:', count_na_values(df))\n",
    "\n",
    "# Impute missing values\n",
    "imp_features = ['R_Weight_lbs', 'R_Height_cms', 'B_Height_cms', 'R_age', 'B_age', 'R_Reach_cms', 'B_Reach_cms']\n",
    "imp_median = SimpleImputer(missing_values=np.nan, strategy='median')\n",
    "imp_stance = SimpleImputer(missing_values=np.nan, strategy='most_frequent')\n",
    "\n",
    "df = impute_missing_values(df, imp_features, imp_median, imp_stance)\n",
    "df_copy = impute_missing_values(df_copy, imp_features, imp_median, imp_stance)\n",
    "\n",
    "# Impute mean values\n",
    "imp_mean = SimpleImputer(missing_values=np.nan, strategy='mean')\n",
    "na = [(index, df[col].isna().sum()) for index, col in enumerate(df)]\n",
    "\n",
    "df = impute_mean_values(df, na, imp_mean)\n",
    "df_copy = impute_mean_values(df_copy, na, imp_mean)\n",
    "\n",
    "df = df.drop(['Referee'], axis=1)\n",
    "\n",
    "print('Number of features with NaN values:', count_na_values(df))\n"
   ]
  },
  {
   "cell_type": "code",
   "execution_count": 112,
   "metadata": {},
   "outputs": [
    {
     "data": {
      "text/html": [
       "\n",
       "<div id=\"altair-viz-deb71a20817b486bb535eefb4c0e26d7\"></div>\n",
       "<script type=\"text/javascript\">\n",
       "  var VEGA_DEBUG = (typeof VEGA_DEBUG == \"undefined\") ? {} : VEGA_DEBUG;\n",
       "  (function(spec, embedOpt){\n",
       "    let outputDiv = document.currentScript.previousElementSibling;\n",
       "    if (outputDiv.id !== \"altair-viz-deb71a20817b486bb535eefb4c0e26d7\") {\n",
       "      outputDiv = document.getElementById(\"altair-viz-deb71a20817b486bb535eefb4c0e26d7\");\n",
       "    }\n",
       "    const paths = {\n",
       "      \"vega\": \"https://cdn.jsdelivr.net/npm//vega@5?noext\",\n",
       "      \"vega-lib\": \"https://cdn.jsdelivr.net/npm//vega-lib?noext\",\n",
       "      \"vega-lite\": \"https://cdn.jsdelivr.net/npm//vega-lite@4.17.0?noext\",\n",
       "      \"vega-embed\": \"https://cdn.jsdelivr.net/npm//vega-embed@6?noext\",\n",
       "    };\n",
       "\n",
       "    function maybeLoadScript(lib, version) {\n",
       "      var key = `${lib.replace(\"-\", \"\")}_version`;\n",
       "      return (VEGA_DEBUG[key] == version) ?\n",
       "        Promise.resolve(paths[lib]) :\n",
       "        new Promise(function(resolve, reject) {\n",
       "          var s = document.createElement('script');\n",
       "          document.getElementsByTagName(\"head\")[0].appendChild(s);\n",
       "          s.async = true;\n",
       "          s.onload = () => {\n",
       "            VEGA_DEBUG[key] = version;\n",
       "            return resolve(paths[lib]);\n",
       "          };\n",
       "          s.onerror = () => reject(`Error loading script: ${paths[lib]}`);\n",
       "          s.src = paths[lib];\n",
       "        });\n",
       "    }\n",
       "\n",
       "    function showError(err) {\n",
       "      outputDiv.innerHTML = `<div class=\"error\" style=\"color:red;\">${err}</div>`;\n",
       "      throw err;\n",
       "    }\n",
       "\n",
       "    function displayChart(vegaEmbed) {\n",
       "      vegaEmbed(outputDiv, spec, embedOpt)\n",
       "        .catch(err => showError(`Javascript Error: ${err.message}<br>This usually means there's a typo in your chart specification. See the javascript console for the full traceback.`));\n",
       "    }\n",
       "\n",
       "    if(typeof define === \"function\" && define.amd) {\n",
       "      requirejs.config({paths});\n",
       "      require([\"vega-embed\"], displayChart, err => showError(`Error loading script: ${err.message}`));\n",
       "    } else {\n",
       "      maybeLoadScript(\"vega\", \"5\")\n",
       "        .then(() => maybeLoadScript(\"vega-lite\", \"4.17.0\"))\n",
       "        .then(() => maybeLoadScript(\"vega-embed\", \"6\"))\n",
       "        .catch(showError)\n",
       "        .then(() => displayChart(vegaEmbed));\n",
       "    }\n",
       "  })({\"config\": {\"view\": {\"continuousWidth\": 400, \"continuousHeight\": 300}}, \"data\": {\"name\": \"data-7eef03f45a7b115c776f1f5ba975a94b\"}, \"mark\": {\"type\": \"area\", \"opacity\": 0.5}, \"encoding\": {\"color\": {\"field\": \"Winner\", \"type\": \"nominal\"}, \"x\": {\"field\": \"YearOfgame\", \"type\": \"nominal\"}, \"y\": {\"field\": \"NoOfGames\", \"type\": \"quantitative\"}}, \"title\": \"Winner of the Game\", \"width\": 890, \"$schema\": \"https://vega.github.io/schema/vega-lite/v4.17.0.json\", \"datasets\": {\"data-7eef03f45a7b115c776f1f5ba975a94b\": [{\"YearOfgame\": \"1994\", \"Winner\": \"Red\", \"NoOfGames\": 29}, {\"YearOfgame\": \"1995\", \"Winner\": \"Red\", \"NoOfGames\": 32}, {\"YearOfgame\": \"1995\", \"Winner\": \"Draw\", \"NoOfGames\": 2}, {\"YearOfgame\": \"1996\", \"Winner\": \"Red\", \"NoOfGames\": 36}, {\"YearOfgame\": \"1997\", \"Winner\": \"Red\", \"NoOfGames\": 38}, {\"YearOfgame\": \"1997\", \"Winner\": \"Draw\", \"NoOfGames\": 1}, {\"YearOfgame\": \"1998\", \"Winner\": \"Red\", \"NoOfGames\": 21}, {\"YearOfgame\": \"1999\", \"Winner\": \"Red\", \"NoOfGames\": 42}, {\"YearOfgame\": \"1999\", \"Winner\": \"Draw\", \"NoOfGames\": 2}, {\"YearOfgame\": \"2000\", \"Winner\": \"Red\", \"NoOfGames\": 42}, {\"YearOfgame\": \"2000\", \"Winner\": \"Draw\", \"NoOfGames\": 1}, {\"YearOfgame\": \"2001\", \"Winner\": \"Red\", \"NoOfGames\": 39}, {\"YearOfgame\": \"2001\", \"Winner\": \"Draw\", \"NoOfGames\": 1}, {\"YearOfgame\": \"2002\", \"Winner\": \"Red\", \"NoOfGames\": 52}, {\"YearOfgame\": \"2002\", \"Winner\": \"Draw\", \"NoOfGames\": 1}, {\"YearOfgame\": \"2003\", \"Winner\": \"Red\", \"NoOfGames\": 39}, {\"YearOfgame\": \"2003\", \"Winner\": \"Draw\", \"NoOfGames\": 2}, {\"YearOfgame\": \"2004\", \"Winner\": \"Red\", \"NoOfGames\": 39}, {\"YearOfgame\": \"2005\", \"Winner\": \"Red\", \"NoOfGames\": 79}, {\"YearOfgame\": \"2005\", \"Winner\": \"Draw\", \"NoOfGames\": 1}, {\"YearOfgame\": \"2006\", \"Winner\": \"Red\", \"NoOfGames\": 158}, {\"YearOfgame\": \"2007\", \"Winner\": \"Red\", \"NoOfGames\": 169}, {\"YearOfgame\": \"2007\", \"Winner\": \"Draw\", \"NoOfGames\": 2}, {\"YearOfgame\": \"2008\", \"Winner\": \"Red\", \"NoOfGames\": 201}, {\"YearOfgame\": \"2009\", \"Winner\": \"Red\", \"NoOfGames\": 213}, {\"YearOfgame\": \"2009\", \"Winner\": \"Draw\", \"NoOfGames\": 2}, {\"YearOfgame\": \"2010\", \"Winner\": \"Red\", \"NoOfGames\": 153}, {\"YearOfgame\": \"2010\", \"Winner\": \"Blue\", \"NoOfGames\": 97}, {\"YearOfgame\": \"2010\", \"Winner\": \"Draw\", \"NoOfGames\": 3}, {\"YearOfgame\": \"2011\", \"Winner\": \"Red\", \"NoOfGames\": 176}, {\"YearOfgame\": \"2011\", \"Winner\": \"Blue\", \"NoOfGames\": 119}, {\"YearOfgame\": \"2011\", \"Winner\": \"Draw\", \"NoOfGames\": 5}, {\"YearOfgame\": \"2012\", \"Winner\": \"Red\", \"NoOfGames\": 208}, {\"YearOfgame\": \"2012\", \"Winner\": \"Blue\", \"NoOfGames\": 125}, {\"YearOfgame\": \"2012\", \"Winner\": \"Draw\", \"NoOfGames\": 8}, {\"YearOfgame\": \"2013\", \"Winner\": \"Red\", \"NoOfGames\": 223}, {\"YearOfgame\": \"2013\", \"Winner\": \"Blue\", \"NoOfGames\": 153}, {\"YearOfgame\": \"2013\", \"Winner\": \"Draw\", \"NoOfGames\": 10}, {\"YearOfgame\": \"2014\", \"Winner\": \"Red\", \"NoOfGames\": 312}, {\"YearOfgame\": \"2014\", \"Winner\": \"Blue\", \"NoOfGames\": 182}, {\"YearOfgame\": \"2014\", \"Winner\": \"Draw\", \"NoOfGames\": 9}, {\"YearOfgame\": \"2015\", \"Winner\": \"Red\", \"NoOfGames\": 265}, {\"YearOfgame\": \"2015\", \"Winner\": \"Blue\", \"NoOfGames\": 199}, {\"YearOfgame\": \"2015\", \"Winner\": \"Draw\", \"NoOfGames\": 9}, {\"YearOfgame\": \"2016\", \"Winner\": \"Red\", \"NoOfGames\": 286}, {\"YearOfgame\": \"2016\", \"Winner\": \"Blue\", \"NoOfGames\": 197}, {\"YearOfgame\": \"2016\", \"Winner\": \"Draw\", \"NoOfGames\": 10}, {\"YearOfgame\": \"2017\", \"Winner\": \"Red\", \"NoOfGames\": 248}, {\"YearOfgame\": \"2017\", \"Winner\": \"Blue\", \"NoOfGames\": 198}, {\"YearOfgame\": \"2017\", \"Winner\": \"Draw\", \"NoOfGames\": 11}, {\"YearOfgame\": \"2018\", \"Winner\": \"Red\", \"NoOfGames\": 254}, {\"YearOfgame\": \"2018\", \"Winner\": \"Blue\", \"NoOfGames\": 215}, {\"YearOfgame\": \"2018\", \"Winner\": \"Draw\", \"NoOfGames\": 5}, {\"YearOfgame\": \"2019\", \"Winner\": \"Red\", \"NoOfGames\": 289}, {\"YearOfgame\": \"2019\", \"Winner\": \"Blue\", \"NoOfGames\": 217}, {\"YearOfgame\": \"2019\", \"Winner\": \"Draw\", \"NoOfGames\": 10}, {\"YearOfgame\": \"2020\", \"Winner\": \"Red\", \"NoOfGames\": 273}, {\"YearOfgame\": \"2020\", \"Winner\": \"Blue\", \"NoOfGames\": 171}, {\"YearOfgame\": \"2020\", \"Winner\": \"Draw\", \"NoOfGames\": 12}, {\"YearOfgame\": \"2021\", \"Winner\": \"Red\", \"NoOfGames\": 63}, {\"YearOfgame\": \"2021\", \"Winner\": \"Blue\", \"NoOfGames\": 50}, {\"YearOfgame\": \"2021\", \"Winner\": \"Draw\", \"NoOfGames\": 3}]}}, {\"mode\": \"vega-lite\"});\n",
       "</script>"
      ],
      "text/plain": [
       "alt.Chart(...)"
      ]
     },
     "execution_count": 112,
     "metadata": {},
     "output_type": "execute_result"
    }
   ],
   "source": [
    "\n",
    "# Exploratory Data Analysis\n",
    "winnerCounts = df['Winner'].value_counts().reset_index()\n",
    "winnerCounts['whoWon'] = winnerCounts['index']\n",
    "winnerCounts = winnerCounts.sort_values(by=\"whoWon\")\n",
    "\n",
    "\n",
    "base = alt.Chart(winnerCounts).mark_arc(innerRadius=3).encode(\n",
    "    theta=alt.Theta(field=\"Winner\", type=\"quantitative\"),\n",
    "    color=alt.Color(field=\"whoWon\", type=\"nominal\")).properties(width=800)\n",
    "\n",
    "c1 = base.mark_arc(innerRadius=2, stroke=\"#fff\")\n",
    "\n",
    "c2 = base.mark_text(radius=100, size=20,radiusOffset=80).encode(text=\"Winner:N\")\n",
    "\n",
    "\n",
    "\n",
    "# Number of Games\n",
    "playCountsBar=alt.Chart(play_counts).mark_bar(color=\"lightblue\").encode(x='YearOfgame',y='NoOfGames').properties(width=990)\n",
    "\n",
    "playCountsBarText = playCountsBar.mark_text(baseline='middle',dx=4).encode(text='NoOfGames')\n",
    "\n",
    "(playCountsBar  + playCountsBarText)\n",
    "\n",
    "\n",
    "# Winner of the Game\n",
    "df['YearOfgame'] = df['date'].apply(lambda x : x.split('-')[0])\n",
    "playWinner = df.groupby('YearOfgame')['Winner'].value_counts().reset_index(name='NoOfGames')\n",
    "\n",
    "\n",
    "alt.Chart(playWinner).mark_area(opacity=0.5).encode(x='YearOfgame',y='NoOfGames',color='Winner').properties( width=890,title='Winner of the Game')\n"
   ]
  },
  {
   "cell_type": "code",
   "execution_count": 115,
   "metadata": {},
   "outputs": [],
   "source": [
    "def fill_na_mode(data, columns):\n",
    "    for column in columns:\n",
    "        data[column] = data[column].fillna(data[column].mode()[0])\n",
    "    return data\n",
    "\n",
    "\n",
    "def label_encode_columns(data, column_pairs):\n",
    "    for col1, col2 in column_pairs:\n",
    "        label_encoder = LabelEncoder()\n",
    "        label_encoder.fit(list(set(list(data[col1].values) + list(data[col2].values))))\n",
    "        data[col1] = label_encoder.transform(data[col1])\n",
    "        data[col2] = label_encoder.transform(data[col2])\n",
    "    return data\n",
    "\n",
    "\n",
    "def drop_unrelated_columns(data, columns):\n",
    "    return data.drop(columns, axis=1)\n",
    "\n",
    "\n",
    "df = fill_na_mode(df, ['B_Stance', 'R_Stance', 'weight_class'])\n",
    "\n",
    "df = label_encode_columns(df, [('R_Stance', 'B_Stance'), ('R_fighter', 'B_fighter')])\n",
    "\n",
    "# Encoding 'weight_class' separately since it has no paired column\n",
    "label_encoder_weight_class = LabelEncoder()\n",
    "df['weight_class'] = label_encoder_weight_class.fit_transform(df['weight_class'])\n",
    "\n",
    "# Dropping unrelated columns\n",
    "target_variable = df['Winner']\n",
    "input_variables = drop_unrelated_columns(df, ['title_bout', 'location', 'date', 'Winner', 'YearOfgame'])\n"
   ]
  },
  {
   "cell_type": "code",
   "execution_count": 116,
   "metadata": {},
   "outputs": [
    {
     "name": "stdout",
     "output_type": "stream",
     "text": [
      "Test Accuracy of Random Forest :  0.6743180306054558\n"
     ]
    }
   ],
   "source": [
    "# Label Encoding Target Variable\n",
    "label_encoder_winner = LabelEncoder()\n",
    "target_variable = label_encoder_winner.fit_transform(target_variable)\n",
    "\n",
    "# Test Train Split\n",
    "X_train, X_test, y_train, y_test = train_test_split(input_variables, target_variable, test_size=0.50, random_state=42)\n",
    "\n",
    "# Modelling\n",
    "model = RandomForestClassifier(n_estimators=100, criterion='entropy', max_depth=10)\n",
    "model.fit(X_train, y_train)\n",
    "y_pred = model.predict(X_test)\n",
    "\n",
    "print(\"Test Accuracy of Random Forest : \", model.score(X_test, y_test))\n",
    "\n",
    "# We use cross-validation with 5-folds to have a more precise accuracy (reduce variation)\n",
    "acc_random = cross_val_score(estimator=model, X=X_train, y=y_train, cv=5)"
   ]
  },
  {
   "cell_type": "code",
   "execution_count": 117,
   "metadata": {},
   "outputs": [
    {
     "data": {
      "text/html": [
       "<div>\n",
       "<style scoped>\n",
       "    .dataframe tbody tr th:only-of-type {\n",
       "        vertical-align: middle;\n",
       "    }\n",
       "\n",
       "    .dataframe tbody tr th {\n",
       "        vertical-align: top;\n",
       "    }\n",
       "\n",
       "    .dataframe thead th {\n",
       "        text-align: right;\n",
       "    }\n",
       "</style>\n",
       "<table border=\"1\" class=\"dataframe\">\n",
       "  <thead>\n",
       "    <tr style=\"text-align: right;\">\n",
       "      <th></th>\n",
       "      <th>Variables</th>\n",
       "      <th>Importance</th>\n",
       "    </tr>\n",
       "  </thead>\n",
       "  <tbody>\n",
       "    <tr>\n",
       "      <th>138</th>\n",
       "      <td>B_Reach_cms</td>\n",
       "      <td>0.016574</td>\n",
       "    </tr>\n",
       "    <tr>\n",
       "      <th>137</th>\n",
       "      <td>R_avg_GROUND_att</td>\n",
       "      <td>0.015367</td>\n",
       "    </tr>\n",
       "    <tr>\n",
       "      <th>136</th>\n",
       "      <td>R_age</td>\n",
       "      <td>0.014711</td>\n",
       "    </tr>\n",
       "    <tr>\n",
       "      <th>135</th>\n",
       "      <td>B_fighter</td>\n",
       "      <td>0.014059</td>\n",
       "    </tr>\n",
       "    <tr>\n",
       "      <th>134</th>\n",
       "      <td>R_avg_opp_SIG_STR_pct</td>\n",
       "      <td>0.013976</td>\n",
       "    </tr>\n",
       "    <tr>\n",
       "      <th>133</th>\n",
       "      <td>B_avg_HEAD_landed</td>\n",
       "      <td>0.013957</td>\n",
       "    </tr>\n",
       "    <tr>\n",
       "      <th>132</th>\n",
       "      <td>B_avg_DISTANCE_landed</td>\n",
       "      <td>0.013479</td>\n",
       "    </tr>\n",
       "    <tr>\n",
       "      <th>131</th>\n",
       "      <td>R_avg_opp_HEAD_landed</td>\n",
       "      <td>0.012997</td>\n",
       "    </tr>\n",
       "    <tr>\n",
       "      <th>130</th>\n",
       "      <td>B_avg_DISTANCE_att</td>\n",
       "      <td>0.012492</td>\n",
       "    </tr>\n",
       "    <tr>\n",
       "      <th>129</th>\n",
       "      <td>R_avg_opp_DISTANCE_att</td>\n",
       "      <td>0.012273</td>\n",
       "    </tr>\n",
       "  </tbody>\n",
       "</table>\n",
       "</div>"
      ],
      "text/plain": [
       "                  Variables  Importance\n",
       "138             B_Reach_cms    0.016574\n",
       "137        R_avg_GROUND_att    0.015367\n",
       "136                   R_age    0.014711\n",
       "135               B_fighter    0.014059\n",
       "134   R_avg_opp_SIG_STR_pct    0.013976\n",
       "133       B_avg_HEAD_landed    0.013957\n",
       "132   B_avg_DISTANCE_landed    0.013479\n",
       "131   R_avg_opp_HEAD_landed    0.012997\n",
       "130      B_avg_DISTANCE_att    0.012492\n",
       "129  R_avg_opp_DISTANCE_att    0.012273"
      ]
     },
     "execution_count": 117,
     "metadata": {},
     "output_type": "execute_result"
    },
    {
     "data": {
      "image/png": "[encoded data removed]",
      "text/plain": [
       "<Figure size 432x288 with 2 Axes>"
      ]
     },
     "metadata": {
      "needs_background": "light"
     },
     "output_type": "display_data"
    }
   ],
   "source": [
    "# Confusion Matrix\n",
    "class_names = [0, 1, 2]\n",
    "fig, ax = plt.subplots()\n",
    "tick_marks = np.arange(len(class_names))\n",
    "plt.xticks(tick_marks, class_names)\n",
    "plt.yticks(tick_marks, class_names)\n",
    "cm2 = confusion_matrix(y_test, y_pred)\n",
    "sns.heatmap(cm2, annot=True, cmap=\"YlGnBu\", fmt='g')\n",
    "ax.xaxis.set_label_position(\"top\")\n",
    "plt.tight_layout()\n",
    "plt.title('Confusion matrix', y=1.1)\n",
    "plt.ylabel('Actual label')\n",
    "plt.xlabel('Predicted label')\n",
    "\n",
    "sorted_idx = model.feature_importances_.argsort()\n",
    "feature_imp = pd.DataFrame(columns=['Variables', 'Importance'])\n",
    "feature_imp['Variables'] = list(input_variables.columns[sorted_idx])\n",
    "feature_imp['Importance'] = list(model.feature_importances_[sorted_idx])\n",
    "feature_imp = feature_imp.sort_values(by='Importance', ascending=False)[:10]\n",
    "feature_imp"
   ]
  },
  {
   "cell_type": "code",
   "execution_count": 95,
   "metadata": {},
   "outputs": [
    {
     "name": "stdout",
     "output_type": "stream",
     "text": [
      "Test Accuracy of XGBoost :  0.6628024193548387\n"
     ]
    },
    {
     "data": {
      "text/html": [
       "<div>\n",
       "<style scoped>\n",
       "    .dataframe tbody tr th:only-of-type {\n",
       "        vertical-align: middle;\n",
       "    }\n",
       "\n",
       "    .dataframe tbody tr th {\n",
       "        vertical-align: top;\n",
       "    }\n",
       "\n",
       "    .dataframe thead th {\n",
       "        text-align: right;\n",
       "    }\n",
       "</style>\n",
       "<table border=\"1\" class=\"dataframe\">\n",
       "  <thead>\n",
       "    <tr style=\"text-align: right;\">\n",
       "      <th></th>\n",
       "      <th>1st Fold</th>\n",
       "      <th>2nd Fold</th>\n",
       "      <th>3rd Fold</th>\n",
       "      <th>4th Fold</th>\n",
       "      <th>5th Fold</th>\n",
       "    </tr>\n",
       "  </thead>\n",
       "  <tbody>\n",
       "    <tr>\n",
       "      <th>Random Forest</th>\n",
       "      <td>0.667494</td>\n",
       "      <td>0.666253</td>\n",
       "      <td>0.656328</td>\n",
       "      <td>0.662112</td>\n",
       "      <td>0.665839</td>\n",
       "    </tr>\n",
       "    <tr>\n",
       "      <th>XGBoost</th>\n",
       "      <td>0.642680</td>\n",
       "      <td>0.666253</td>\n",
       "      <td>0.637717</td>\n",
       "      <td>0.653416</td>\n",
       "      <td>0.647205</td>\n",
       "    </tr>\n",
       "  </tbody>\n",
       "</table>\n",
       "</div>"
      ],
      "text/plain": [
       "               1st Fold  2nd Fold  3rd Fold  4th Fold  5th Fold\n",
       "Random Forest  0.667494  0.666253  0.656328  0.662112  0.665839\n",
       "XGBoost        0.642680  0.666253  0.637717  0.653416  0.647205"
      ]
     },
     "execution_count": 95,
     "metadata": {},
     "output_type": "execute_result"
    }
   ],
   "source": [
    "# XgBoost\n",
    "model = XGBClassifier()\n",
    "model.fit(X_train, y_train)\n",
    "\n",
    "print(\"Test Accuracy of XGBoost : \", model.score(X_test, y_test))\n",
    "\n",
    "# We use cross-validation with 5-folds to have a more precise accuracy (reduce variation)\n",
    "acc_xgboost = cross_val_score(estimator=model, X=X_train, y=y_train, cv=5)\n",
    "\n",
    "t = pd.DataFrame([acc_random, acc_xgboost],\n",
    "                 columns=['1st Fold', '2nd Fold', '3rd Fold', '4th Fold', '5th Fold'],\n",
    "                 index=['Random Forest', 'XGBoost'])\n",
    "t\n"
   ]
  },
  {
   "cell_type": "code",
   "execution_count": 96,
   "metadata": {},
   "outputs": [
    {
     "name": "stdout",
     "output_type": "stream",
     "text": [
      "Sample Mean: 0.01415070203288995\n",
      "Sample Standard Deviation: 0.009793985121182678\n",
      "T-statistic: 3.230751454425883\n"
     ]
    }
   ],
   "source": [
    "diff_in_accuracy = []\n",
    "for i in range(len(t.columns)):\n",
    "    diff_in_accuracy.append(t.iloc[0, i] - t.iloc[1, i])\n",
    "\n",
    "sample_mean = sum(diff_in_accuracy) / len(t.columns)\n",
    "print(\"Sample Mean:\", sample_mean)\n",
    "\n",
    "sample_std = np.sqrt(sum([np.square(np.subtract(i, sample_mean)) for i in diff_in_accuracy]) / (len(t.columns) - 1))\n",
    "print(\"Sample Standard Deviation:\", sample_std)\n",
    "\n",
    "t_statistic = (np.sqrt(len(t.columns)) * sample_mean) / sample_std\n",
    "print(\"T-statistic:\", t_statistic)"
   ]
  }
 ],
 "metadata": {
  "kernelspec": {
   "display_name": "Python 3",
   "language": "python",
   "name": "python3"
  },
  "language_info": {
   "codemirror_mode": {
    "name": "ipython",
    "version": 3
   },
   "file_extension": ".py",
   "mimetype": "text/x-python",
   "name": "python",
   "nbconvert_exporter": "python",
   "pygments_lexer": "ipython3",
   "version": "3.9.0"
  },
  "orig_nbformat": 4
 },
 "nbformat": 4,
 "nbformat_minor": 2
}
